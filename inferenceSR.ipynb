{
 "cells": [
  {
   "cell_type": "code",
   "execution_count": null,
   "metadata": {},
   "outputs": [],
   "source": [
    "# !git clone https://github.com/CompVis/latent-diffusion.git\n",
    "# !git clone https://github.com/CompVis/taming-transformers\n",
    "# !pip install -e ./taming-transformers\n",
    "# !pip install ipywidgets omegaconf>=2.0.0 pytorch-lightning>=1.0.8 torch-fidelity einops\n",
    "\n",
    "# import sys\n",
    "# sys.path.append(\".\")\n",
    "# sys.path.append('./taming-transformers')\n",
    "# from taming.models import vqgan # checking correct import from taming"
   ]
  },
  {
   "cell_type": "code",
   "execution_count": 1,
   "metadata": {},
   "outputs": [
    {
     "ename": "ModuleNotFoundError",
     "evalue": "No module named 'ipywidgets'",
     "output_type": "error",
     "traceback": [
      "\u001b[1;31m---------------------------------------------------------------------------\u001b[0m",
      "\u001b[1;31mModuleNotFoundError\u001b[0m                       Traceback (most recent call last)",
      "Cell \u001b[1;32mIn[1], line 2\u001b[0m\n\u001b[0;32m      1\u001b[0m \u001b[39m# %cd latent-diffusion\u001b[39;00m\n\u001b[1;32m----> 2\u001b[0m \u001b[39mimport\u001b[39;00m \u001b[39mipywidgets\u001b[39;00m \u001b[39mas\u001b[39;00m \u001b[39mwidgets\u001b[39;00m\n\u001b[0;32m      3\u001b[0m \u001b[39mfrom\u001b[39;00m \u001b[39mIPython\u001b[39;00m\u001b[39m.\u001b[39;00m\u001b[39mdisplay\u001b[39;00m \u001b[39mimport\u001b[39;00m display\n\u001b[0;32m      5\u001b[0m mode \u001b[39m=\u001b[39m widgets\u001b[39m.\u001b[39mSelect(options\u001b[39m=\u001b[39m[\u001b[39m'\u001b[39m\u001b[39msuperresolution\u001b[39m\u001b[39m'\u001b[39m],\n\u001b[0;32m      6\u001b[0m     value\u001b[39m=\u001b[39m\u001b[39m'\u001b[39m\u001b[39msuperresolution\u001b[39m\u001b[39m'\u001b[39m, description\u001b[39m=\u001b[39m\u001b[39m'\u001b[39m\u001b[39mTask:\u001b[39m\u001b[39m'\u001b[39m)\n",
      "\u001b[1;31mModuleNotFoundError\u001b[0m: No module named 'ipywidgets'"
     ]
    }
   ],
   "source": [
    "# %cd latent-diffusion\n",
    "import ipywidgets as widgets\n",
    "from IPython.display import display\n",
    "\n",
    "mode = widgets.Select(options=['superresolution'],\n",
    "    value='superresolution', description='Task:')\n",
    "display(mode)"
   ]
  },
  {
   "cell_type": "code",
   "execution_count": null,
   "metadata": {},
   "outputs": [],
   "source": [
    "# Define variables\n",
    "path_conf = \"\"\n",
    "path_ckpt = \"\" # todo"
   ]
  },
  {
   "cell_type": "code",
   "execution_count": null,
   "metadata": {},
   "outputs": [],
   "source": [
    "from notebook_helpers import get_model\n",
    "model = get_local_model(path_conf, path_ckpt) # load model"
   ]
  },
  {
   "cell_type": "code",
   "execution_count": null,
   "metadata": {},
   "outputs": [],
   "source": [
    "from notebook_helpers import get_custom_cond\n",
    "get_custom_cond(mode.value)"
   ]
  },
  {
   "cell_type": "code",
   "execution_count": null,
   "metadata": {},
   "outputs": [],
   "source": [
    "from notebook_helpers import get_cond_options, get_cond\n",
    "dir, options = get_cond_options(mode.value)\n",
    "cond_choice = widgets.RadioButtons(\n",
    "        options=options,\n",
    "        description='Select conditioning:',\n",
    "        disabled=False\n",
    "    )\n",
    "display(cond_choice)"
   ]
  },
  {
   "cell_type": "code",
   "execution_count": null,
   "metadata": {},
   "outputs": [],
   "source": [
    "from notebook_helpers import run\n",
    "import os\n",
    "custom_steps = 100\n",
    "cond_choice_path = os.path.join(dir, cond_choice.value)\n",
    "logs = run(model[\"model\"], cond_choice_path, mode.value, custom_steps)"
   ]
  },
  {
   "cell_type": "code",
   "execution_count": null,
   "metadata": {},
   "outputs": [],
   "source": [
    "import torch\n",
    "import numpy as np\n",
    "import IPython.display as d\n",
    "from PIL import Image\n",
    "\n",
    "sample = logs[\"sample\"]\n",
    "sample = sample.detach().cpu()\n",
    "sample = torch.clamp(sample, -1., 1.)\n",
    "sample = (sample + 1.) / 2. * 255\n",
    "sample = sample.numpy().astype(np.uint8)\n",
    "sample = np.transpose(sample, (0, 2, 3, 1))\n",
    "print(sample.shape)\n",
    "a = Image.fromarray(sample[0])\n",
    "display(a)\n"
   ]
  }
 ],
 "metadata": {
  "kernelspec": {
   "display_name": "ldm",
   "language": "python",
   "name": "python3"
  },
  "language_info": {
   "codemirror_mode": {
    "name": "ipython",
    "version": 3
   },
   "file_extension": ".py",
   "mimetype": "text/x-python",
   "name": "python",
   "nbconvert_exporter": "python",
   "pygments_lexer": "ipython3",
   "version": "3.8.5"
  },
  "orig_nbformat": 4,
  "vscode": {
   "interpreter": {
    "hash": "b11eaf0e94fc111c724b4ee42f36a114f13a982891d5c8efe533c6716daa5c0a"
   }
  }
 },
 "nbformat": 4,
 "nbformat_minor": 2
}
